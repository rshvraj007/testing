{
  "nbformat": 4,
  "nbformat_minor": 0,
  "metadata": {
    "colab": {
      "name": "Matrix_mirror_image.ipynb",
      "provenance": [],
      "authorship_tag": "ABX9TyP+ppFoPj0CxPcjNDGdlfvX",
      "include_colab_link": true
    },
    "kernelspec": {
      "name": "python3",
      "display_name": "Python 3"
    }
  },
  "cells": [
    {
      "cell_type": "markdown",
      "metadata": {
        "id": "view-in-github",
        "colab_type": "text"
      },
      "source": [
        "<a href=\"https://colab.research.google.com/github/rshvraj007/testing/blob/master/Matrix_mirror_image.ipynb\" target=\"_parent\"><img src=\"https://colab.research.google.com/assets/colab-badge.svg\" alt=\"Open In Colab\"/></a>"
      ]
    },
    {
      "cell_type": "code",
      "metadata": {
        "id": "1WlHAalqHWiG"
      },
      "source": [
        "def M(matrix1, matrix2, N):\n",
        "  row = 0\n",
        "  col = 0\n",
        "  MirrorImage = True\n",
        "  for i in range(N):\n",
        "    for j in range(N - 1, -1, -1):\n",
        "      if (matrix2[row][col] != matrix1[i][j]):\n",
        "        MirrorImage = False\n",
        "      col =col + 1 # Increment column\n",
        "    col = 0 # Reset column to 0 for new row\n",
        "    row = row + 1 \t# Increment row\n",
        "  if (MirrorImage):\n",
        "    print(\"Entered matrices are mirror image of each other\")\n",
        "  else:\n",
        "    print(\"No,Entered matrices are not mirror image of each\") \n",
        "    \n",
        "\t"
      ],
      "execution_count": 7,
      "outputs": []
    },
    {
      "cell_type": "code",
      "metadata": {
        "id": "7NiXukgUIXLw",
        "outputId": "dbda3fee-a4da-4e09-d4a1-314a8b9bf374",
        "colab": {
          "base_uri": "https://localhost:8080/",
          "height": 34
        }
      },
      "source": [
        "if __name__ == '__main__':\n",
        "\t\n",
        "\t# Taking 2 matrices of 4X4\n",
        "\tN = 4\n",
        "\tmatrix1 = [ [ 1, 2, 3, 4 ],\n",
        "\t\t\t[ 0, 6, 7, 8 ],\n",
        "\t\t\t[ 9, 10, 11, 12 ],\n",
        "\t\t\t[ 13, 14, 15, 16 ] ]\n",
        "\n",
        "\tmatrix2 = [ [ 4, 3, 2, 1 ],\n",
        "\t\t\t[ 8, 7, 6, 0 ],\n",
        "\t\t\t[ 12, 11, 10, 9 ],\n",
        "\t\t\t[ 16, 15, 14, 13 ] ]\t\n",
        "  \n",
        "M(matrix1, matrix2, N)"
      ],
      "execution_count": 8,
      "outputs": [
        {
          "output_type": "stream",
          "text": [
            "Entered matrices are mirror image of each other\n"
          ],
          "name": "stdout"
        }
      ]
    }
  ]
}